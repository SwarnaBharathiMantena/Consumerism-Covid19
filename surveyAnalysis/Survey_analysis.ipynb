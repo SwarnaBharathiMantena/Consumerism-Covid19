{
  "nbformat": 4,
  "nbformat_minor": 0,
  "metadata": {
    "colab": {
      "name": "Survey_analysis.ipynb",
      "provenance": [],
      "collapsed_sections": []
    },
    "kernelspec": {
      "name": "python3",
      "display_name": "Python 3"
    }
  },
  "cells": [
    {
      "cell_type": "markdown",
      "metadata": {
        "id": "bJSgxVMLnROs",
        "colab_type": "text"
      },
      "source": [
        "# TCS A&I\n",
        "# Data Brew and Data Jam - Data Challenge (June 2020)\n",
        "\n",
        "Team Memebers: Jeswanth Yadagani, Swarna Bharathi Mantena\n",
        "\n",
        "Details: Both are Masters students at Columbia University\n",
        "\n",
        "Github Repository Link: https://github.com/SwarnaBharathiMantena/Consumerism-Covid19"
      ]
    },
    {
      "cell_type": "markdown",
      "metadata": {
        "id": "gOT3FFLYTWdb",
        "colab_type": "text"
      },
      "source": [
        "## Clustering"
      ]
    },
    {
      "cell_type": "code",
      "metadata": {
        "id": "exF7v4rDsG9l",
        "colab_type": "code",
        "colab": {}
      },
      "source": [
        "# Required imports\n",
        "\n",
        "from google.colab import auth\n",
        "auth.authenticate_user()\n",
        "import gspread\n",
        "from oauth2client.client import GoogleCredentials\n",
        "gc = gspread.authorize(GoogleCredentials.get_application_default()) # for loading directly from the link\n",
        "\n",
        "import pandas as pd\n",
        "import numpy as np\n",
        "from sklearn.cluster import KMeans\n",
        "from sklearn import metrics\n",
        "from sklearn.cluster import AgglomerativeClustering\n",
        "from sklearn.preprocessing import OneHotEncoder\n",
        "from sklearn import metrics\n",
        "import matplotlib.pyplot as plt"
      ],
      "execution_count": 1,
      "outputs": []
    },
    {
      "cell_type": "code",
      "metadata": {
        "id": "OL4h6CLln1Xs",
        "colab_type": "code",
        "colab": {
          "base_uri": "https://localhost:8080/",
          "height": 306
        },
        "outputId": "2d1daadf-d860-486c-ae98-98e789c41ca1"
      },
      "source": [
        "# Get the dataset\n",
        "\n",
        "wb = gc.open_by_url('https://docs.google.com/spreadsheets/d/1ZAagS3r0YcWxotqqHYpZbc0HdUJglb8NGbL6J23xiA0/edit?usp=sharing')\n",
        "sheet = wb.worksheet('TCS_data264')\n",
        "raw_data = sheet.get_all_values()\n",
        "data_main = pd.DataFrame.from_records(raw_data[1:], columns=raw_data[0])\n",
        "# data_main.head()\n",
        "\n",
        "\n",
        "column_names = ['timestamp', 'consumerism', 'hear_survey', 'country_in', 'citystate_in', 'age_group', 'gender', 'race_enthnicity', #8\n",
        "                'family_size', 'household_income_pa', 'education', 'profession', 'residence', 'pandemic_interpretation', 'new_normal', #15\n",
        "                'expen_impt_food_groceries', 'expen_impt_healthcare', 'expen_impt_utilities', 'expen_impt_residence', \n",
        "                'expen_impt_education', 'expen_impt_entertainment', 'expen_impt_appliances', 'expen_impt_highvalue', \n",
        "                'expen_impt_business_expen', 'expen_impt_wellness', 'expen_impt_luxury', 'expen_impt_insurance', \n",
        "                'expen_impt_investments', 'expen_impt_other', #29\n",
        "                'postcov_life_simplifier', 'postcov_degrowth_activist', 'postcov_climate_activist', 'postcov_sane_food', \n",
        "                'postcov_conservationist', 'postcov_remote_everything', 'postcov_most', 'postcov_little', 'postcov_no_change', 'postcov_other', #39\n",
        "                'perspective_text', 'perspective_other', 'Email Address'] #42\n",
        "data_main.columns = column_names\n",
        "data_main = data_main[data_main.gender != 'Fish']\n",
        "# data_main.head()\n",
        "\n",
        "\n",
        "# missing data\n",
        "data_main = data_main.replace('', np.nan)\n",
        "# data_main.info()\n",
        "\n",
        "\n",
        "data_main = data_main[data_main['consumerism'].notna()]\n",
        "data_to_cluster = data_main[['country_in', 'age_group', 'gender', 'race_enthnicity', 'family_size', 'household_income_pa', \n",
        "                             'education', 'profession', 'residence', \n",
        "                             'pandemic_interpretation']]\n",
        "# data_to_cluster.head()\n",
        "data_to_cluster.info()"
      ],
      "execution_count": 2,
      "outputs": [
        {
          "output_type": "stream",
          "text": [
            "<class 'pandas.core.frame.DataFrame'>\n",
            "Int64Index: 261 entries, 0 to 263\n",
            "Data columns (total 10 columns):\n",
            " #   Column                   Non-Null Count  Dtype \n",
            "---  ------                   --------------  ----- \n",
            " 0   country_in               260 non-null    object\n",
            " 1   age_group                260 non-null    object\n",
            " 2   gender                   261 non-null    object\n",
            " 3   race_enthnicity          259 non-null    object\n",
            " 4   family_size              259 non-null    object\n",
            " 5   household_income_pa      246 non-null    object\n",
            " 6   education                260 non-null    object\n",
            " 7   profession               260 non-null    object\n",
            " 8   residence                258 non-null    object\n",
            " 9   pandemic_interpretation  258 non-null    object\n",
            "dtypes: object(10)\n",
            "memory usage: 22.4+ KB\n"
          ],
          "name": "stdout"
        }
      ]
    },
    {
      "cell_type": "code",
      "metadata": {
        "id": "gfJMwMXnXk_-",
        "colab_type": "code",
        "colab": {
          "base_uri": "https://localhost:8080/",
          "height": 615
        },
        "outputId": "ad2afbba-a187-49b1-8294-7ff09a8710aa"
      },
      "source": [
        "def get_string_list(x):\n",
        "    if type(x['pandemic_interpretation']) == str:\n",
        "        split = x['pandemic_interpretation'].split(', ')\n",
        "        if 'Family' in split:\n",
        "            split.remove('Family')\n",
        "            split.remove('friends and community come first')\n",
        "            split.append('Family, friends and community come first')\n",
        "\n",
        "        if 'More home cooking' in split:\n",
        "            split.remove('More home cooking')\n",
        "            split.remove('more kitchen gardening and less eating out')\n",
        "            split.append('More home cooking more kitchen gardening and less eating out')\n",
        "\n",
        "        if 'Have become more conscious of fragility of the planet' in split:\n",
        "            split.remove('Have become more conscious of fragility of the planet')\n",
        "            split.remove('of air and water pollution')\n",
        "            split.append('Have become more conscious of fragility of the planet of air and water pollution')\n",
        "\n",
        "        return split\n",
        "    else:\n",
        "        return []\n",
        "\n",
        "data_to_cluster2 = data_to_cluster.copy()\n",
        "string_list = data_to_cluster.apply(get_string_list, axis=1)\n",
        "data_to_cluster2['pandemic_interpretation'] = string_list\n",
        "# data_to_cluster2.head()\n",
        "\n",
        "\n",
        "from sklearn.preprocessing import MultiLabelBinarizer\n",
        "\n",
        "mlb = MultiLabelBinarizer()\n",
        "data_to_cluster2 = data_to_cluster2.join(pd.DataFrame(mlb.fit_transform(data_to_cluster2.pop('pandemic_interpretation')),\n",
        "                                                    columns=mlb.classes_,\n",
        "                                                    index=data_to_cluster.index))\n",
        "data_to_cluster2.head()"
      ],
      "execution_count": 3,
      "outputs": [
        {
          "output_type": "execute_result",
          "data": {
            "text/html": [
              "<div>\n",
              "<style scoped>\n",
              "    .dataframe tbody tr th:only-of-type {\n",
              "        vertical-align: middle;\n",
              "    }\n",
              "\n",
              "    .dataframe tbody tr th {\n",
              "        vertical-align: top;\n",
              "    }\n",
              "\n",
              "    .dataframe thead th {\n",
              "        text-align: right;\n",
              "    }\n",
              "</style>\n",
              "<table border=\"1\" class=\"dataframe\">\n",
              "  <thead>\n",
              "    <tr style=\"text-align: right;\">\n",
              "      <th></th>\n",
              "      <th>country_in</th>\n",
              "      <th>age_group</th>\n",
              "      <th>gender</th>\n",
              "      <th>race_enthnicity</th>\n",
              "      <th>family_size</th>\n",
              "      <th>household_income_pa</th>\n",
              "      <th>education</th>\n",
              "      <th>profession</th>\n",
              "      <th>residence</th>\n",
              "      <th>Family, friends and community come first</th>\n",
              "      <th>Have become more conscious of fragility of the planet of air and water pollution</th>\n",
              "      <th>Made me aware how fragile our health is</th>\n",
              "      <th>More home cooking more kitchen gardening and less eating out</th>\n",
              "      <th>Moving away from addiction to materialism and sensing other paths to a good life</th>\n",
              "      <th>Need to eat more healthy foods to have a greater resistance to germs and flus</th>\n",
              "      <th>Shocked by the inadequacy of our health systems and its great cost</th>\n",
              "      <th>The sudden loss of jobs will remain a trauma even after jobs come back</th>\n",
              "      <th>Will spend and save money more carefully</th>\n",
              "    </tr>\n",
              "  </thead>\n",
              "  <tbody>\n",
              "    <tr>\n",
              "      <th>0</th>\n",
              "      <td>India</td>\n",
              "      <td>19 to 24</td>\n",
              "      <td>Female</td>\n",
              "      <td>Do not wish to disclose</td>\n",
              "      <td>Single</td>\n",
              "      <td>Less than $24,999</td>\n",
              "      <td>Graduated from college</td>\n",
              "      <td>Employed in Private firm</td>\n",
              "      <td>town-home</td>\n",
              "      <td>0</td>\n",
              "      <td>1</td>\n",
              "      <td>1</td>\n",
              "      <td>1</td>\n",
              "      <td>0</td>\n",
              "      <td>1</td>\n",
              "      <td>1</td>\n",
              "      <td>0</td>\n",
              "      <td>0</td>\n",
              "    </tr>\n",
              "    <tr>\n",
              "      <th>1</th>\n",
              "      <td>India</td>\n",
              "      <td>19 to 24</td>\n",
              "      <td>Male</td>\n",
              "      <td>Do not wish to disclose</td>\n",
              "      <td>3-4</td>\n",
              "      <td>$25,000 to $49,999</td>\n",
              "      <td>Graduated from college</td>\n",
              "      <td>Employed in Private firm</td>\n",
              "      <td>One to two bedroom apartment</td>\n",
              "      <td>1</td>\n",
              "      <td>0</td>\n",
              "      <td>1</td>\n",
              "      <td>1</td>\n",
              "      <td>1</td>\n",
              "      <td>1</td>\n",
              "      <td>1</td>\n",
              "      <td>1</td>\n",
              "      <td>1</td>\n",
              "    </tr>\n",
              "    <tr>\n",
              "      <th>2</th>\n",
              "      <td>India</td>\n",
              "      <td>19 to 24</td>\n",
              "      <td>Male</td>\n",
              "      <td>Asian / Pacific Islander</td>\n",
              "      <td>3-4</td>\n",
              "      <td>Less than $24,999</td>\n",
              "      <td>Graduated from college</td>\n",
              "      <td>Student</td>\n",
              "      <td>3+ bedroom apartment</td>\n",
              "      <td>1</td>\n",
              "      <td>1</td>\n",
              "      <td>0</td>\n",
              "      <td>0</td>\n",
              "      <td>1</td>\n",
              "      <td>0</td>\n",
              "      <td>1</td>\n",
              "      <td>0</td>\n",
              "      <td>0</td>\n",
              "    </tr>\n",
              "    <tr>\n",
              "      <th>3</th>\n",
              "      <td>United States</td>\n",
              "      <td>19 to 24</td>\n",
              "      <td>Male</td>\n",
              "      <td>Asian / Pacific Islander</td>\n",
              "      <td>Single</td>\n",
              "      <td>$100,000 to $149,999</td>\n",
              "      <td>Masters degree</td>\n",
              "      <td>Employed in Private firm</td>\n",
              "      <td>One to two bedroom apartment</td>\n",
              "      <td>1</td>\n",
              "      <td>0</td>\n",
              "      <td>1</td>\n",
              "      <td>1</td>\n",
              "      <td>0</td>\n",
              "      <td>1</td>\n",
              "      <td>1</td>\n",
              "      <td>0</td>\n",
              "      <td>0</td>\n",
              "    </tr>\n",
              "    <tr>\n",
              "      <th>4</th>\n",
              "      <td>India</td>\n",
              "      <td>19 to 24</td>\n",
              "      <td>Male</td>\n",
              "      <td>Do not wish to disclose</td>\n",
              "      <td>3-4</td>\n",
              "      <td>Less than $24,999</td>\n",
              "      <td>Graduated from college</td>\n",
              "      <td>Seeking employment</td>\n",
              "      <td>One to two bedroom apartment</td>\n",
              "      <td>0</td>\n",
              "      <td>0</td>\n",
              "      <td>1</td>\n",
              "      <td>1</td>\n",
              "      <td>1</td>\n",
              "      <td>0</td>\n",
              "      <td>1</td>\n",
              "      <td>0</td>\n",
              "      <td>0</td>\n",
              "    </tr>\n",
              "  </tbody>\n",
              "</table>\n",
              "</div>"
            ],
            "text/plain": [
              "      country_in  ... Will spend and save money more carefully\n",
              "0          India  ...                                        0\n",
              "1          India  ...                                        1\n",
              "2          India  ...                                        0\n",
              "3  United States  ...                                        0\n",
              "4          India  ...                                        0\n",
              "\n",
              "[5 rows x 18 columns]"
            ]
          },
          "metadata": {
            "tags": []
          },
          "execution_count": 3
        }
      ]
    },
    {
      "cell_type": "code",
      "metadata": {
        "id": "jBdSGa5YCg2W",
        "colab_type": "code",
        "colab": {
          "base_uri": "https://localhost:8080/",
          "height": 474
        },
        "outputId": "ef45eaf0-f581-4d4b-826f-99e7f95bfd8a"
      },
      "source": [
        "ohe_data_to_cluster = pd.get_dummies(data_to_cluster2[['country_in', 'age_group', 'gender', 'race_enthnicity', \n",
        "                                                       'family_size', 'household_income_pa', \n",
        "                                                        'education', 'profession', 'residence'\n",
        "                                                     ]])\n",
        "data_to_cluster2 = pd.concat([data_to_cluster2.drop(['country_in', 'age_group', 'gender', 'country_in', \n",
        "                                                     'race_enthnicity', 'family_size', 'household_income_pa', \n",
        "                                                      'education', 'profession', 'residence' \n",
        "                                                    ], axis=1), ohe_data_to_cluster], axis=1)\n",
        "data_to_cluster2.head()"
      ],
      "execution_count": 4,
      "outputs": [
        {
          "output_type": "execute_result",
          "data": {
            "text/html": [
              "<div>\n",
              "<style scoped>\n",
              "    .dataframe tbody tr th:only-of-type {\n",
              "        vertical-align: middle;\n",
              "    }\n",
              "\n",
              "    .dataframe tbody tr th {\n",
              "        vertical-align: top;\n",
              "    }\n",
              "\n",
              "    .dataframe thead th {\n",
              "        text-align: right;\n",
              "    }\n",
              "</style>\n",
              "<table border=\"1\" class=\"dataframe\">\n",
              "  <thead>\n",
              "    <tr style=\"text-align: right;\">\n",
              "      <th></th>\n",
              "      <th>Family, friends and community come first</th>\n",
              "      <th>Have become more conscious of fragility of the planet of air and water pollution</th>\n",
              "      <th>Made me aware how fragile our health is</th>\n",
              "      <th>More home cooking more kitchen gardening and less eating out</th>\n",
              "      <th>Moving away from addiction to materialism and sensing other paths to a good life</th>\n",
              "      <th>Need to eat more healthy foods to have a greater resistance to germs and flus</th>\n",
              "      <th>Shocked by the inadequacy of our health systems and its great cost</th>\n",
              "      <th>The sudden loss of jobs will remain a trauma even after jobs come back</th>\n",
              "      <th>Will spend and save money more carefully</th>\n",
              "      <th>country_in_Australia</th>\n",
              "      <th>country_in_Canada</th>\n",
              "      <th>country_in_Germany</th>\n",
              "      <th>country_in_Hungary</th>\n",
              "      <th>country_in_India</th>\n",
              "      <th>country_in_Ireland</th>\n",
              "      <th>country_in_Other (Please specify)</th>\n",
              "      <th>country_in_Qatar</th>\n",
              "      <th>country_in_Sweden</th>\n",
              "      <th>country_in_United Arab Emirates</th>\n",
              "      <th>country_in_United Kingdom</th>\n",
              "      <th>country_in_United States</th>\n",
              "      <th>age_group_19 to 24</th>\n",
              "      <th>age_group_25 to 34</th>\n",
              "      <th>age_group_35 to 44</th>\n",
              "      <th>age_group_45 to 54</th>\n",
              "      <th>age_group_55 to 64</th>\n",
              "      <th>age_group_65 to 74</th>\n",
              "      <th>age_group_75 or older</th>\n",
              "      <th>age_group_Do not wish to disclose</th>\n",
              "      <th>age_group_Less than 18</th>\n",
              "      <th>gender_Female</th>\n",
              "      <th>gender_Male</th>\n",
              "      <th>gender_Prefer not to say</th>\n",
              "      <th>race_enthnicity_American Indian or Alaskan Native</th>\n",
              "      <th>race_enthnicity_Asian / Pacific Islander</th>\n",
              "      <th>race_enthnicity_Do not wish to disclose</th>\n",
              "      <th>race_enthnicity_Hindu</th>\n",
              "      <th>race_enthnicity_Indian</th>\n",
              "      <th>race_enthnicity_Indian from India.</th>\n",
              "      <th>family_size_1</th>\n",
              "      <th>...</th>\n",
              "      <th>household_income_pa_$150,000 or More</th>\n",
              "      <th>household_income_pa_$25,000 to $49,999</th>\n",
              "      <th>household_income_pa_$50,000 to $74,999</th>\n",
              "      <th>household_income_pa_$75,000 to $99,999</th>\n",
              "      <th>household_income_pa_0</th>\n",
              "      <th>household_income_pa_Currently a student</th>\n",
              "      <th>household_income_pa_Do not wish to disclose</th>\n",
              "      <th>household_income_pa_IDk</th>\n",
              "      <th>household_income_pa_Less than $24,999</th>\n",
              "      <th>household_income_pa_Prefer not to say</th>\n",
              "      <th>education_Doctorate</th>\n",
              "      <th>education_Double graduation</th>\n",
              "      <th>education_Engineering</th>\n",
              "      <th>education_Graduated from college</th>\n",
              "      <th>education_High school</th>\n",
              "      <th>education_I  f**ked up</th>\n",
              "      <th>education_Masters degree</th>\n",
              "      <th>education_Post Grad</th>\n",
              "      <th>education_Under graduate</th>\n",
              "      <th>profession_Employed in Private firm</th>\n",
              "      <th>profession_Employed in Public or Government firm</th>\n",
              "      <th>profession_Home maker</th>\n",
              "      <th>profession_Own Business - Small &amp; Medium</th>\n",
              "      <th>profession_Retired</th>\n",
              "      <th>profession_Seeking employment</th>\n",
              "      <th>profession_Self employed Professional</th>\n",
              "      <th>profession_Student</th>\n",
              "      <th>residence_3+ bedroom apartment</th>\n",
              "      <th>residence_Bungalow</th>\n",
              "      <th>residence_Castle/Chateau/Palace/Cottage/Ranch/etc</th>\n",
              "      <th>residence_Condominium</th>\n",
              "      <th>residence_Hostel</th>\n",
              "      <th>residence_I live in jungle</th>\n",
              "      <th>residence_One to two bedroom apartment</th>\n",
              "      <th>residence_PG</th>\n",
              "      <th>residence_Row House</th>\n",
              "      <th>residence_Single family (detached)</th>\n",
              "      <th>residence_Studio apartment</th>\n",
              "      <th>residence_sharing</th>\n",
              "      <th>residence_town-home</th>\n",
              "    </tr>\n",
              "  </thead>\n",
              "  <tbody>\n",
              "    <tr>\n",
              "      <th>0</th>\n",
              "      <td>0</td>\n",
              "      <td>1</td>\n",
              "      <td>1</td>\n",
              "      <td>1</td>\n",
              "      <td>0</td>\n",
              "      <td>1</td>\n",
              "      <td>1</td>\n",
              "      <td>0</td>\n",
              "      <td>0</td>\n",
              "      <td>0</td>\n",
              "      <td>0</td>\n",
              "      <td>0</td>\n",
              "      <td>0</td>\n",
              "      <td>1</td>\n",
              "      <td>0</td>\n",
              "      <td>0</td>\n",
              "      <td>0</td>\n",
              "      <td>0</td>\n",
              "      <td>0</td>\n",
              "      <td>0</td>\n",
              "      <td>0</td>\n",
              "      <td>1</td>\n",
              "      <td>0</td>\n",
              "      <td>0</td>\n",
              "      <td>0</td>\n",
              "      <td>0</td>\n",
              "      <td>0</td>\n",
              "      <td>0</td>\n",
              "      <td>0</td>\n",
              "      <td>0</td>\n",
              "      <td>1</td>\n",
              "      <td>0</td>\n",
              "      <td>0</td>\n",
              "      <td>0</td>\n",
              "      <td>0</td>\n",
              "      <td>1</td>\n",
              "      <td>0</td>\n",
              "      <td>0</td>\n",
              "      <td>0</td>\n",
              "      <td>0</td>\n",
              "      <td>...</td>\n",
              "      <td>0</td>\n",
              "      <td>0</td>\n",
              "      <td>0</td>\n",
              "      <td>0</td>\n",
              "      <td>0</td>\n",
              "      <td>0</td>\n",
              "      <td>0</td>\n",
              "      <td>0</td>\n",
              "      <td>1</td>\n",
              "      <td>0</td>\n",
              "      <td>0</td>\n",
              "      <td>0</td>\n",
              "      <td>0</td>\n",
              "      <td>1</td>\n",
              "      <td>0</td>\n",
              "      <td>0</td>\n",
              "      <td>0</td>\n",
              "      <td>0</td>\n",
              "      <td>0</td>\n",
              "      <td>1</td>\n",
              "      <td>0</td>\n",
              "      <td>0</td>\n",
              "      <td>0</td>\n",
              "      <td>0</td>\n",
              "      <td>0</td>\n",
              "      <td>0</td>\n",
              "      <td>0</td>\n",
              "      <td>0</td>\n",
              "      <td>0</td>\n",
              "      <td>0</td>\n",
              "      <td>0</td>\n",
              "      <td>0</td>\n",
              "      <td>0</td>\n",
              "      <td>0</td>\n",
              "      <td>0</td>\n",
              "      <td>0</td>\n",
              "      <td>0</td>\n",
              "      <td>0</td>\n",
              "      <td>0</td>\n",
              "      <td>1</td>\n",
              "    </tr>\n",
              "    <tr>\n",
              "      <th>1</th>\n",
              "      <td>1</td>\n",
              "      <td>0</td>\n",
              "      <td>1</td>\n",
              "      <td>1</td>\n",
              "      <td>1</td>\n",
              "      <td>1</td>\n",
              "      <td>1</td>\n",
              "      <td>1</td>\n",
              "      <td>1</td>\n",
              "      <td>0</td>\n",
              "      <td>0</td>\n",
              "      <td>0</td>\n",
              "      <td>0</td>\n",
              "      <td>1</td>\n",
              "      <td>0</td>\n",
              "      <td>0</td>\n",
              "      <td>0</td>\n",
              "      <td>0</td>\n",
              "      <td>0</td>\n",
              "      <td>0</td>\n",
              "      <td>0</td>\n",
              "      <td>1</td>\n",
              "      <td>0</td>\n",
              "      <td>0</td>\n",
              "      <td>0</td>\n",
              "      <td>0</td>\n",
              "      <td>0</td>\n",
              "      <td>0</td>\n",
              "      <td>0</td>\n",
              "      <td>0</td>\n",
              "      <td>0</td>\n",
              "      <td>1</td>\n",
              "      <td>0</td>\n",
              "      <td>0</td>\n",
              "      <td>0</td>\n",
              "      <td>1</td>\n",
              "      <td>0</td>\n",
              "      <td>0</td>\n",
              "      <td>0</td>\n",
              "      <td>0</td>\n",
              "      <td>...</td>\n",
              "      <td>0</td>\n",
              "      <td>1</td>\n",
              "      <td>0</td>\n",
              "      <td>0</td>\n",
              "      <td>0</td>\n",
              "      <td>0</td>\n",
              "      <td>0</td>\n",
              "      <td>0</td>\n",
              "      <td>0</td>\n",
              "      <td>0</td>\n",
              "      <td>0</td>\n",
              "      <td>0</td>\n",
              "      <td>0</td>\n",
              "      <td>1</td>\n",
              "      <td>0</td>\n",
              "      <td>0</td>\n",
              "      <td>0</td>\n",
              "      <td>0</td>\n",
              "      <td>0</td>\n",
              "      <td>1</td>\n",
              "      <td>0</td>\n",
              "      <td>0</td>\n",
              "      <td>0</td>\n",
              "      <td>0</td>\n",
              "      <td>0</td>\n",
              "      <td>0</td>\n",
              "      <td>0</td>\n",
              "      <td>0</td>\n",
              "      <td>0</td>\n",
              "      <td>0</td>\n",
              "      <td>0</td>\n",
              "      <td>0</td>\n",
              "      <td>0</td>\n",
              "      <td>1</td>\n",
              "      <td>0</td>\n",
              "      <td>0</td>\n",
              "      <td>0</td>\n",
              "      <td>0</td>\n",
              "      <td>0</td>\n",
              "      <td>0</td>\n",
              "    </tr>\n",
              "    <tr>\n",
              "      <th>2</th>\n",
              "      <td>1</td>\n",
              "      <td>1</td>\n",
              "      <td>0</td>\n",
              "      <td>0</td>\n",
              "      <td>1</td>\n",
              "      <td>0</td>\n",
              "      <td>1</td>\n",
              "      <td>0</td>\n",
              "      <td>0</td>\n",
              "      <td>0</td>\n",
              "      <td>0</td>\n",
              "      <td>0</td>\n",
              "      <td>0</td>\n",
              "      <td>1</td>\n",
              "      <td>0</td>\n",
              "      <td>0</td>\n",
              "      <td>0</td>\n",
              "      <td>0</td>\n",
              "      <td>0</td>\n",
              "      <td>0</td>\n",
              "      <td>0</td>\n",
              "      <td>1</td>\n",
              "      <td>0</td>\n",
              "      <td>0</td>\n",
              "      <td>0</td>\n",
              "      <td>0</td>\n",
              "      <td>0</td>\n",
              "      <td>0</td>\n",
              "      <td>0</td>\n",
              "      <td>0</td>\n",
              "      <td>0</td>\n",
              "      <td>1</td>\n",
              "      <td>0</td>\n",
              "      <td>0</td>\n",
              "      <td>1</td>\n",
              "      <td>0</td>\n",
              "      <td>0</td>\n",
              "      <td>0</td>\n",
              "      <td>0</td>\n",
              "      <td>0</td>\n",
              "      <td>...</td>\n",
              "      <td>0</td>\n",
              "      <td>0</td>\n",
              "      <td>0</td>\n",
              "      <td>0</td>\n",
              "      <td>0</td>\n",
              "      <td>0</td>\n",
              "      <td>0</td>\n",
              "      <td>0</td>\n",
              "      <td>1</td>\n",
              "      <td>0</td>\n",
              "      <td>0</td>\n",
              "      <td>0</td>\n",
              "      <td>0</td>\n",
              "      <td>1</td>\n",
              "      <td>0</td>\n",
              "      <td>0</td>\n",
              "      <td>0</td>\n",
              "      <td>0</td>\n",
              "      <td>0</td>\n",
              "      <td>0</td>\n",
              "      <td>0</td>\n",
              "      <td>0</td>\n",
              "      <td>0</td>\n",
              "      <td>0</td>\n",
              "      <td>0</td>\n",
              "      <td>0</td>\n",
              "      <td>1</td>\n",
              "      <td>1</td>\n",
              "      <td>0</td>\n",
              "      <td>0</td>\n",
              "      <td>0</td>\n",
              "      <td>0</td>\n",
              "      <td>0</td>\n",
              "      <td>0</td>\n",
              "      <td>0</td>\n",
              "      <td>0</td>\n",
              "      <td>0</td>\n",
              "      <td>0</td>\n",
              "      <td>0</td>\n",
              "      <td>0</td>\n",
              "    </tr>\n",
              "    <tr>\n",
              "      <th>3</th>\n",
              "      <td>1</td>\n",
              "      <td>0</td>\n",
              "      <td>1</td>\n",
              "      <td>1</td>\n",
              "      <td>0</td>\n",
              "      <td>1</td>\n",
              "      <td>1</td>\n",
              "      <td>0</td>\n",
              "      <td>0</td>\n",
              "      <td>0</td>\n",
              "      <td>0</td>\n",
              "      <td>0</td>\n",
              "      <td>0</td>\n",
              "      <td>0</td>\n",
              "      <td>0</td>\n",
              "      <td>0</td>\n",
              "      <td>0</td>\n",
              "      <td>0</td>\n",
              "      <td>0</td>\n",
              "      <td>0</td>\n",
              "      <td>1</td>\n",
              "      <td>1</td>\n",
              "      <td>0</td>\n",
              "      <td>0</td>\n",
              "      <td>0</td>\n",
              "      <td>0</td>\n",
              "      <td>0</td>\n",
              "      <td>0</td>\n",
              "      <td>0</td>\n",
              "      <td>0</td>\n",
              "      <td>0</td>\n",
              "      <td>1</td>\n",
              "      <td>0</td>\n",
              "      <td>0</td>\n",
              "      <td>1</td>\n",
              "      <td>0</td>\n",
              "      <td>0</td>\n",
              "      <td>0</td>\n",
              "      <td>0</td>\n",
              "      <td>0</td>\n",
              "      <td>...</td>\n",
              "      <td>0</td>\n",
              "      <td>0</td>\n",
              "      <td>0</td>\n",
              "      <td>0</td>\n",
              "      <td>0</td>\n",
              "      <td>0</td>\n",
              "      <td>0</td>\n",
              "      <td>0</td>\n",
              "      <td>0</td>\n",
              "      <td>0</td>\n",
              "      <td>0</td>\n",
              "      <td>0</td>\n",
              "      <td>0</td>\n",
              "      <td>0</td>\n",
              "      <td>0</td>\n",
              "      <td>0</td>\n",
              "      <td>1</td>\n",
              "      <td>0</td>\n",
              "      <td>0</td>\n",
              "      <td>1</td>\n",
              "      <td>0</td>\n",
              "      <td>0</td>\n",
              "      <td>0</td>\n",
              "      <td>0</td>\n",
              "      <td>0</td>\n",
              "      <td>0</td>\n",
              "      <td>0</td>\n",
              "      <td>0</td>\n",
              "      <td>0</td>\n",
              "      <td>0</td>\n",
              "      <td>0</td>\n",
              "      <td>0</td>\n",
              "      <td>0</td>\n",
              "      <td>1</td>\n",
              "      <td>0</td>\n",
              "      <td>0</td>\n",
              "      <td>0</td>\n",
              "      <td>0</td>\n",
              "      <td>0</td>\n",
              "      <td>0</td>\n",
              "    </tr>\n",
              "    <tr>\n",
              "      <th>4</th>\n",
              "      <td>0</td>\n",
              "      <td>0</td>\n",
              "      <td>1</td>\n",
              "      <td>1</td>\n",
              "      <td>1</td>\n",
              "      <td>0</td>\n",
              "      <td>1</td>\n",
              "      <td>0</td>\n",
              "      <td>0</td>\n",
              "      <td>0</td>\n",
              "      <td>0</td>\n",
              "      <td>0</td>\n",
              "      <td>0</td>\n",
              "      <td>1</td>\n",
              "      <td>0</td>\n",
              "      <td>0</td>\n",
              "      <td>0</td>\n",
              "      <td>0</td>\n",
              "      <td>0</td>\n",
              "      <td>0</td>\n",
              "      <td>0</td>\n",
              "      <td>1</td>\n",
              "      <td>0</td>\n",
              "      <td>0</td>\n",
              "      <td>0</td>\n",
              "      <td>0</td>\n",
              "      <td>0</td>\n",
              "      <td>0</td>\n",
              "      <td>0</td>\n",
              "      <td>0</td>\n",
              "      <td>0</td>\n",
              "      <td>1</td>\n",
              "      <td>0</td>\n",
              "      <td>0</td>\n",
              "      <td>0</td>\n",
              "      <td>1</td>\n",
              "      <td>0</td>\n",
              "      <td>0</td>\n",
              "      <td>0</td>\n",
              "      <td>0</td>\n",
              "      <td>...</td>\n",
              "      <td>0</td>\n",
              "      <td>0</td>\n",
              "      <td>0</td>\n",
              "      <td>0</td>\n",
              "      <td>0</td>\n",
              "      <td>0</td>\n",
              "      <td>0</td>\n",
              "      <td>0</td>\n",
              "      <td>1</td>\n",
              "      <td>0</td>\n",
              "      <td>0</td>\n",
              "      <td>0</td>\n",
              "      <td>0</td>\n",
              "      <td>1</td>\n",
              "      <td>0</td>\n",
              "      <td>0</td>\n",
              "      <td>0</td>\n",
              "      <td>0</td>\n",
              "      <td>0</td>\n",
              "      <td>0</td>\n",
              "      <td>0</td>\n",
              "      <td>0</td>\n",
              "      <td>0</td>\n",
              "      <td>0</td>\n",
              "      <td>1</td>\n",
              "      <td>0</td>\n",
              "      <td>0</td>\n",
              "      <td>0</td>\n",
              "      <td>0</td>\n",
              "      <td>0</td>\n",
              "      <td>0</td>\n",
              "      <td>0</td>\n",
              "      <td>0</td>\n",
              "      <td>1</td>\n",
              "      <td>0</td>\n",
              "      <td>0</td>\n",
              "      <td>0</td>\n",
              "      <td>0</td>\n",
              "      <td>0</td>\n",
              "      <td>0</td>\n",
              "    </tr>\n",
              "  </tbody>\n",
              "</table>\n",
              "<p>5 rows × 86 columns</p>\n",
              "</div>"
            ],
            "text/plain": [
              "   Family, friends and community come first  ...  residence_town-home\n",
              "0                                         0  ...                    1\n",
              "1                                         1  ...                    0\n",
              "2                                         1  ...                    0\n",
              "3                                         1  ...                    0\n",
              "4                                         0  ...                    0\n",
              "\n",
              "[5 rows x 86 columns]"
            ]
          },
          "metadata": {
            "tags": []
          },
          "execution_count": 4
        }
      ]
    },
    {
      "cell_type": "code",
      "metadata": {
        "id": "ruL4PBjmeGBn",
        "colab_type": "code",
        "colab": {}
      },
      "source": [
        "def get_clustering_information(K, data):\n",
        "    silhouette_scores = []\n",
        "    ch_scores = []\n",
        "    y_hats = []\n",
        "    for k in K:\n",
        "        k_means = KMeans(n_clusters=k, random_state=2**20)\n",
        "        model = k_means.fit(data)\n",
        "        y_hat = k_means.predict(data)\n",
        "        y_hats.append(y_hat)\n",
        "        # silhouette coefficient\n",
        "        labels = k_means.labels_\n",
        "        silhouette_scores.append(metrics.silhouette_score(data_to_cluster2, labels, metric = 'euclidean'))\n",
        "        # CH score\n",
        "        ch_scores.append(metrics.calinski_harabasz_score(data_to_cluster2, labels))\n",
        "\n",
        "    return y_hats, silhouette_scores, ch_scores\n",
        "\n",
        "def plot_graph(X, y, title, xlabel, ylabel, need_log_x, lab):\n",
        "    plt.plot(X, y, label=lab)\n",
        "    if (need_log_x == 1):\n",
        "        plt.xscale('log')\n",
        "    plt.title(title)\n",
        "    plt.xlabel(xlabel)\n",
        "    plt.ylabel(ylabel)\n",
        "    plt.grid()\n",
        "    if lab:\n",
        "        plt.legend()"
      ],
      "execution_count": 5,
      "outputs": []
    },
    {
      "cell_type": "code",
      "metadata": {
        "id": "6bbCaUYDfsCb",
        "colab_type": "code",
        "colab": {
          "base_uri": "https://localhost:8080/",
          "height": 404
        },
        "outputId": "08723e1c-de94-4679-e1df-9f2cbae0982e"
      },
      "source": [
        "K = list(range(2, 10))\n",
        "y_hats, silhouette_scores, ch_scores = get_clustering_information(K, data_to_cluster2)\n",
        "\n",
        "plt.figure(figsize=(10, 6))\n",
        "plot_graph(K, silhouette_scores, 'Clustering - Scores vs k values', 'k value', 'Scores', 0, 'silhouette_score')"
      ],
      "execution_count": 6,
      "outputs": [
        {
          "output_type": "display_data",
          "data": {
            "image/png": "[encoded data removed]",
            "text/plain": [
              "<Figure size 720x432 with 1 Axes>"
            ]
          },
          "metadata": {
            "tags": [],
            "needs_background": "light"
          }
        }
      ]
    },
    {
      "cell_type": "code",
      "metadata": {
        "id": "a2JzAiIFMNIc",
        "colab_type": "code",
        "colab": {}
      },
      "source": [
        "silhouette_dict = {'documentID': 'silhouette_scores'}\n",
        "for k, v in zip(K, silhouette_scores):\n",
        "    silhouette_dict[str(k)] = v"
      ],
      "execution_count": 7,
      "outputs": []
    },
    {
      "cell_type": "code",
      "metadata": {
        "id": "RrLOFDQYMxoE",
        "colab_type": "code",
        "colab": {
          "base_uri": "https://localhost:8080/",
          "height": 51
        },
        "outputId": "6a24ec11-9421-4100-dde3-c4c92fa698ef"
      },
      "source": [
        "# Code specific to our MongoDB Atlas set up\n",
        "# This has to be modified when the code is tried to reproduce\n",
        "!pip install pymongo\n",
        "!pip install dnspython\n",
        "\n",
        "# from pymongo import MongoClient \n",
        "# db = MongoClient(\"<your_API_key>\").<details>\n",
        "\n",
        "# # db.plots #table handler\n",
        "# db.plots.insert_one(silhouette_dict) # to upload \n",
        "# # db.plots.delete_one(silhouette_dict) # to delete"
      ],
      "execution_count": 8,
      "outputs": [
        {
          "output_type": "stream",
          "text": [
            "Requirement already satisfied: pymongo in /usr/local/lib/python3.6/dist-packages (3.10.1)\n",
            "Requirement already satisfied: dnspython in /usr/local/lib/python3.6/dist-packages (1.16.0)\n"
          ],
          "name": "stdout"
        }
      ]
    },
    {
      "cell_type": "code",
      "metadata": {
        "id": "skAcAZegO3To",
        "colab_type": "code",
        "colab": {
          "base_uri": "https://localhost:8080/",
          "height": 170
        },
        "outputId": "67950ce8-e525-45d5-da59-376333165558"
      },
      "source": [
        "silhouette_dict\n",
        "# db.plots.insert_one(silhouette_dict)"
      ],
      "execution_count": 9,
      "outputs": [
        {
          "output_type": "execute_result",
          "data": {
            "text/plain": [
              "{'2': 0.08198568680246478,\n",
              " '3': 0.0660791621480063,\n",
              " '4': 0.06699683654777754,\n",
              " '5': 0.06386612240217335,\n",
              " '6': 0.06063434184755356,\n",
              " '7': 0.058976877094586454,\n",
              " '8': 0.06711140736214714,\n",
              " '9': 0.05627157471497517,\n",
              " 'documentID': 'silhouette_scores'}"
            ]
          },
          "metadata": {
            "tags": []
          },
          "execution_count": 9
        }
      ]
    },
    {
      "cell_type": "markdown",
      "metadata": {
        "id": "6AZ9oM4Ol7zL",
        "colab_type": "text"
      },
      "source": [
        "As 2 clusters has the best silhouette score, we proceed with dividing the respondants into two categories.\n",
        "\n",
        "The Silhouette Index measures the distance between each data point, the centroid of the cluster it was assigned to and the closest centroid belonging to another cluster."
      ]
    },
    {
      "cell_type": "code",
      "metadata": {
        "id": "60g2r1R-8qEp",
        "colab_type": "code",
        "colab": {
          "base_uri": "https://localhost:8080/",
          "height": 564
        },
        "outputId": "c47965ce-12af-4a37-c49a-223639f3ef48"
      },
      "source": [
        "data_modified = data_main.drop(['timestamp', 'hear_survey', 'citystate_in', 'race_enthnicity', \n",
        "                                'pandemic_interpretation', 'perspective_other', 'Email Address'], axis=1)\n",
        "# data_modified.columns\n",
        "\n",
        "\n",
        "def get_string_list_newn(x):\n",
        "    if type(x['new_normal']) == str:\n",
        "        split = x['new_normal'].split(', ')\n",
        "        if 'Enhanced rigor in personal wellness' in split:\n",
        "            split.remove('Enhanced rigor in personal wellness')\n",
        "            split.remove('safety & hygiene')\n",
        "            split.append('Enhanced rigor in personal wellness, safety & hygiene')\n",
        "\n",
        "        if 'More virtual-socializing like family video chats' in split:\n",
        "            split.remove('More virtual-socializing like family video chats')\n",
        "            split.remove('functions')\n",
        "            split.remove('etc?')\n",
        "            split.append('More virtual-socializing like family video chats, functions, etc?')\n",
        "\n",
        "        if 'Remote ‘everything’ – education' in split:\n",
        "            split.remove('Remote ‘everything’ – education')\n",
        "            split.remove('healthcare')\n",
        "            split.remove('financial services')\n",
        "            split.remove('entertainment & …. so on ?')\n",
        "            split.append('Remote ‘everything’ – education, healthcare, financial services, entertainment & …. so on ?')\n",
        "\n",
        "        if 'Near term distress for certain sectors ? - Aviation & Travel | Business real estate | Events like sports' in split:\n",
        "            split.remove('Near term distress for certain sectors ? - Aviation & Travel | Business real estate | Events like sports')\n",
        "            split.remove('concerts | etc')\n",
        "            split.append('Near term distress for certain sectors ? - Aviation & Travel | Business real estate | Events like sports, concerts | etc')\n",
        "\n",
        "        return split\n",
        "    else:\n",
        "        return []\n",
        "\n",
        "\n",
        "\n",
        "data_modified2 = data_modified.copy()\n",
        "string_list_newn = data_modified2.apply(get_string_list_newn, axis=1)\n",
        "data_modified2['new_normal'] = string_list_newn\n",
        "data_modified2.head()\n"
      ],
      "execution_count": 10,
      "outputs": [
        {
          "output_type": "execute_result",
          "data": {
            "text/html": [
              "<div>\n",
              "<style scoped>\n",
              "    .dataframe tbody tr th:only-of-type {\n",
              "        vertical-align: middle;\n",
              "    }\n",
              "\n",
              "    .dataframe tbody tr th {\n",
              "        vertical-align: top;\n",
              "    }\n",
              "\n",
              "    .dataframe thead th {\n",
              "        text-align: right;\n",
              "    }\n",
              "</style>\n",
              "<table border=\"1\" class=\"dataframe\">\n",
              "  <thead>\n",
              "    <tr style=\"text-align: right;\">\n",
              "      <th></th>\n",
              "      <th>consumerism</th>\n",
              "      <th>country_in</th>\n",
              "      <th>age_group</th>\n",
              "      <th>gender</th>\n",
              "      <th>family_size</th>\n",
              "      <th>household_income_pa</th>\n",
              "      <th>education</th>\n",
              "      <th>profession</th>\n",
              "      <th>residence</th>\n",
              "      <th>new_normal</th>\n",
              "      <th>expen_impt_food_groceries</th>\n",
              "      <th>expen_impt_healthcare</th>\n",
              "      <th>expen_impt_utilities</th>\n",
              "      <th>expen_impt_residence</th>\n",
              "      <th>expen_impt_education</th>\n",
              "      <th>expen_impt_entertainment</th>\n",
              "      <th>expen_impt_appliances</th>\n",
              "      <th>expen_impt_highvalue</th>\n",
              "      <th>expen_impt_business_expen</th>\n",
              "      <th>expen_impt_wellness</th>\n",
              "      <th>expen_impt_luxury</th>\n",
              "      <th>expen_impt_insurance</th>\n",
              "      <th>expen_impt_investments</th>\n",
              "      <th>expen_impt_other</th>\n",
              "      <th>postcov_life_simplifier</th>\n",
              "      <th>postcov_degrowth_activist</th>\n",
              "      <th>postcov_climate_activist</th>\n",
              "      <th>postcov_sane_food</th>\n",
              "      <th>postcov_conservationist</th>\n",
              "      <th>postcov_remote_everything</th>\n",
              "      <th>postcov_most</th>\n",
              "      <th>postcov_little</th>\n",
              "      <th>postcov_no_change</th>\n",
              "      <th>postcov_other</th>\n",
              "      <th>perspective_text</th>\n",
              "    </tr>\n",
              "  </thead>\n",
              "  <tbody>\n",
              "    <tr>\n",
              "      <th>0</th>\n",
              "      <td>No, never heard them before</td>\n",
              "      <td>India</td>\n",
              "      <td>19 to 24</td>\n",
              "      <td>Female</td>\n",
              "      <td>Single</td>\n",
              "      <td>Less than $24,999</td>\n",
              "      <td>Graduated from college</td>\n",
              "      <td>Employed in Private firm</td>\n",
              "      <td>town-home</td>\n",
              "      <td>[Practicing more physical distancing habits in...</td>\n",
              "      <td>Cannot Say</td>\n",
              "      <td>Increase Slightly</td>\n",
              "      <td>Increase Slightly</td>\n",
              "      <td>Remain Constant</td>\n",
              "      <td>Remain Constant</td>\n",
              "      <td>Reduced Slightly</td>\n",
              "      <td>Increase Slightly</td>\n",
              "      <td>Reduced Significantly</td>\n",
              "      <td>Remain Constant</td>\n",
              "      <td>Increase Slightly</td>\n",
              "      <td>Remain Constant</td>\n",
              "      <td>Increase Slightly</td>\n",
              "      <td>Increase Slightly</td>\n",
              "      <td>NaN</td>\n",
              "      <td>NaN</td>\n",
              "      <td>NaN</td>\n",
              "      <td>NaN</td>\n",
              "      <td>NaN</td>\n",
              "      <td>NaN</td>\n",
              "      <td>NaN</td>\n",
              "      <td>Lightly Agree</td>\n",
              "      <td>NaN</td>\n",
              "      <td>NaN</td>\n",
              "      <td>NaN</td>\n",
              "      <td>Lot of unnecessary spendings are scraped out. ...</td>\n",
              "    </tr>\n",
              "    <tr>\n",
              "      <th>1</th>\n",
              "      <td>Yes but only aware of the terms</td>\n",
              "      <td>India</td>\n",
              "      <td>19 to 24</td>\n",
              "      <td>Male</td>\n",
              "      <td>3-4</td>\n",
              "      <td>$25,000 to $49,999</td>\n",
              "      <td>Graduated from college</td>\n",
              "      <td>Employed in Private firm</td>\n",
              "      <td>One to two bedroom apartment</td>\n",
              "      <td>[Practicing more physical distancing habits in...</td>\n",
              "      <td>Remain Constant</td>\n",
              "      <td>Remain Constant</td>\n",
              "      <td>Increase Slightly</td>\n",
              "      <td>Remain Constant</td>\n",
              "      <td>Remain Constant</td>\n",
              "      <td>Reduced Significantly</td>\n",
              "      <td>Reduced Slightly</td>\n",
              "      <td>Remain Constant</td>\n",
              "      <td>Remain Constant</td>\n",
              "      <td>Remain Constant</td>\n",
              "      <td>Reduced Slightly</td>\n",
              "      <td>Increase Slightly</td>\n",
              "      <td>Increase Slightly</td>\n",
              "      <td>Cannot Say</td>\n",
              "      <td>Neither Agree nor Disagree</td>\n",
              "      <td>Lightly Disagree</td>\n",
              "      <td>Strongly Agree</td>\n",
              "      <td>Lightly Agree</td>\n",
              "      <td>Lightly Agree</td>\n",
              "      <td>Neither Agree nor Disagree</td>\n",
              "      <td>Neither Agree nor Disagree</td>\n",
              "      <td>Neither Agree nor Disagree</td>\n",
              "      <td>Lightly Agree</td>\n",
              "      <td>Neither Agree nor Disagree</td>\n",
              "      <td>NaN</td>\n",
              "    </tr>\n",
              "    <tr>\n",
              "      <th>2</th>\n",
              "      <td>No, never heard them before</td>\n",
              "      <td>India</td>\n",
              "      <td>19 to 24</td>\n",
              "      <td>Male</td>\n",
              "      <td>3-4</td>\n",
              "      <td>Less than $24,999</td>\n",
              "      <td>Graduated from college</td>\n",
              "      <td>Student</td>\n",
              "      <td>3+ bedroom apartment</td>\n",
              "      <td>[Practicing more physical distancing habits in...</td>\n",
              "      <td>Remain Constant</td>\n",
              "      <td>Remain Constant</td>\n",
              "      <td>Remain Constant</td>\n",
              "      <td>Remain Constant</td>\n",
              "      <td>Remain Constant</td>\n",
              "      <td>Remain Constant</td>\n",
              "      <td>Remain Constant</td>\n",
              "      <td>Remain Constant</td>\n",
              "      <td>Remain Constant</td>\n",
              "      <td>Increase Slightly</td>\n",
              "      <td>Remain Constant</td>\n",
              "      <td>Remain Constant</td>\n",
              "      <td>Remain Constant</td>\n",
              "      <td>Cannot Say</td>\n",
              "      <td>Neither Agree nor Disagree</td>\n",
              "      <td>Neither Agree nor Disagree</td>\n",
              "      <td>Strongly Agree</td>\n",
              "      <td>Neither Agree nor Disagree</td>\n",
              "      <td>Lightly Agree</td>\n",
              "      <td>Neither Agree nor Disagree</td>\n",
              "      <td>Neither Agree nor Disagree</td>\n",
              "      <td>Neither Agree nor Disagree</td>\n",
              "      <td>Lightly Agree</td>\n",
              "      <td>Neither Agree nor Disagree</td>\n",
              "      <td>NaN</td>\n",
              "    </tr>\n",
              "    <tr>\n",
              "      <th>3</th>\n",
              "      <td>No, never heard them before</td>\n",
              "      <td>United States</td>\n",
              "      <td>19 to 24</td>\n",
              "      <td>Male</td>\n",
              "      <td>Single</td>\n",
              "      <td>$100,000 to $149,999</td>\n",
              "      <td>Masters degree</td>\n",
              "      <td>Employed in Private firm</td>\n",
              "      <td>One to two bedroom apartment</td>\n",
              "      <td>[Practicing more physical distancing habits in...</td>\n",
              "      <td>Increase Significantly</td>\n",
              "      <td>Cannot Say</td>\n",
              "      <td>Remain Constant</td>\n",
              "      <td>Remain Constant</td>\n",
              "      <td>Remain Constant</td>\n",
              "      <td>Reduced Significantly</td>\n",
              "      <td>Reduced Significantly</td>\n",
              "      <td>Reduced Significantly</td>\n",
              "      <td>Reduced Significantly</td>\n",
              "      <td>Reduced Significantly</td>\n",
              "      <td>Reduced Significantly</td>\n",
              "      <td>Remain Constant</td>\n",
              "      <td>Increase Slightly</td>\n",
              "      <td>Remain Constant</td>\n",
              "      <td>Neither Agree nor Disagree</td>\n",
              "      <td>Neither Agree nor Disagree</td>\n",
              "      <td>Neither Agree nor Disagree</td>\n",
              "      <td>Neither Agree nor Disagree</td>\n",
              "      <td>Neither Agree nor Disagree</td>\n",
              "      <td>Neither Agree nor Disagree</td>\n",
              "      <td>Neither Agree nor Disagree</td>\n",
              "      <td>Neither Agree nor Disagree</td>\n",
              "      <td>Neither Agree nor Disagree</td>\n",
              "      <td>Neither Agree nor Disagree</td>\n",
              "      <td>NaN</td>\n",
              "    </tr>\n",
              "    <tr>\n",
              "      <th>4</th>\n",
              "      <td>Yes but only aware of the terms</td>\n",
              "      <td>India</td>\n",
              "      <td>19 to 24</td>\n",
              "      <td>Male</td>\n",
              "      <td>3-4</td>\n",
              "      <td>Less than $24,999</td>\n",
              "      <td>Graduated from college</td>\n",
              "      <td>Seeking employment</td>\n",
              "      <td>One to two bedroom apartment</td>\n",
              "      <td>[More e-learning ?, Economic depression &amp; degr...</td>\n",
              "      <td>Increase Slightly</td>\n",
              "      <td>Remain Constant</td>\n",
              "      <td>Increase Significantly</td>\n",
              "      <td>Remain Constant</td>\n",
              "      <td>Remain Constant</td>\n",
              "      <td>Reduced Significantly</td>\n",
              "      <td>Reduced Slightly</td>\n",
              "      <td>Reduced Significantly</td>\n",
              "      <td>Reduced Significantly</td>\n",
              "      <td>Reduced Slightly</td>\n",
              "      <td>Reduced Significantly</td>\n",
              "      <td>Remain Constant</td>\n",
              "      <td>Increase Slightly</td>\n",
              "      <td>NaN</td>\n",
              "      <td>Lightly Disagree</td>\n",
              "      <td>Strongly Disagree</td>\n",
              "      <td>Strongly Agree</td>\n",
              "      <td>Lightly Disagree</td>\n",
              "      <td>Lightly Disagree</td>\n",
              "      <td>Neither Agree nor Disagree</td>\n",
              "      <td>Neither Agree nor Disagree</td>\n",
              "      <td>Lightly Disagree</td>\n",
              "      <td>Lightly Disagree</td>\n",
              "      <td>NaN</td>\n",
              "      <td>NaN</td>\n",
              "    </tr>\n",
              "  </tbody>\n",
              "</table>\n",
              "</div>"
            ],
            "text/plain": [
              "                       consumerism  ...                                   perspective_text\n",
              "0      No, never heard them before  ...  Lot of unnecessary spendings are scraped out. ...\n",
              "1  Yes but only aware of the terms  ...                                                NaN\n",
              "2      No, never heard them before  ...                                                NaN\n",
              "3      No, never heard them before  ...                                                NaN\n",
              "4  Yes but only aware of the terms  ...                                                NaN\n",
              "\n",
              "[5 rows x 35 columns]"
            ]
          },
          "metadata": {
            "tags": []
          },
          "execution_count": 10
        }
      ]
    },
    {
      "cell_type": "code",
      "metadata": {
        "id": "Q5DKAqoP7nr1",
        "colab_type": "code",
        "colab": {}
      },
      "source": [
        "mlb = MultiLabelBinarizer()\n",
        "data_modified2 = data_modified2.join(pd.DataFrame(mlb.fit_transform(data_modified2.pop('new_normal')),\n",
        "                                                    columns=mlb.classes_,\n",
        "                                                    index=data_to_cluster.index))\n",
        "# data_modified2.columns\n",
        "\n",
        "\n",
        "data_to_cluster3 = data_to_cluster2[['Family, friends and community come first',\n",
        "                      'Have become more conscious of fragility of the planet of air and water pollution',\n",
        "                      'Made me aware how fragile our health is',\n",
        "                      'More home cooking more kitchen gardening and less eating out',\n",
        "                      'Moving away from addiction to materialism and sensing other paths to a good life',\n",
        "                      'Need to eat more healthy foods to have a greater resistance to germs and flus',\n",
        "                      'Shocked by the inadequacy of our health systems and its great cost',\n",
        "                      'The sudden loss of jobs will remain a trauma even after jobs come back',\n",
        "                      'Will spend and save money more carefully']]\n",
        "\n",
        "data_modified3 = pd.concat([data_modified2, data_to_cluster3], axis=1)\n",
        "# data_modified3.columns  "
      ],
      "execution_count": 11,
      "outputs": []
    },
    {
      "cell_type": "markdown",
      "metadata": {
        "id": "GQvijjHhEnxo",
        "colab_type": "text"
      },
      "source": [
        "## Understanding the clusters' features"
      ]
    },
    {
      "cell_type": "code",
      "metadata": {
        "id": "EEu5DK6nOrJX",
        "colab_type": "code",
        "colab": {}
      },
      "source": [
        "def get_dict(df, documentID):\n",
        "    dictt = {}\n",
        "    df = df.round(2)\n",
        "    dictt['labels'] = df.index.tolist()\n",
        "    dictt['A'] = df['cluster_0'].values.tolist()\n",
        "    dictt['B'] = df['cluster_1'].values.tolist()\n",
        "    dictt['documentID'] = documentID\n",
        "    return dictt"
      ],
      "execution_count": 12,
      "outputs": []
    },
    {
      "cell_type": "code",
      "metadata": {
        "id": "iPZn_F-EQbGY",
        "colab_type": "code",
        "colab": {}
      },
      "source": [
        "indices_0 = [i for i, e in enumerate(y_hats[0]) if e == 0]\n",
        "indices_1 = [i for i, e in enumerate(y_hats[0]) if e == 1]\n",
        "\n",
        "data_0 = data_modified3.iloc[indices_0]\n",
        "data_1 = data_modified3.iloc[indices_1]\n",
        "\n",
        "pi_data_0 = data_to_cluster3.iloc[indices_0]\n",
        "pi_data_1 = data_to_cluster3.iloc[indices_1]"
      ],
      "execution_count": 13,
      "outputs": []
    },
    {
      "cell_type": "code",
      "metadata": {
        "id": "orOYJYtXSHh2",
        "colab_type": "code",
        "colab": {
          "base_uri": "https://localhost:8080/",
          "height": 221
        },
        "outputId": "14548b8a-b257-4a03-fee4-f66611fc52b8"
      },
      "source": [
        "pi0 = pi_data_0.mean(axis=0) #= 'cluster_0'\n",
        "pi0 = pi0.rename(\"cluster_0\")\n",
        "pi0\n",
        "\n",
        "pi1 = pi_data_1.mean(axis=0) #= 'cluster_0'\n",
        "pi1 = pi1.rename(\"cluster_1\")\n",
        "# pi1\n",
        "\n",
        "personal_interpretation_df = pd.concat([pi0, pi1], axis=1)\n",
        "# personal_interpretation_df = personal_interpretation_df.round(2)\n",
        "# personal_interpretation_df\n",
        "\n",
        "personal_interpretation_dict = get_dict(personal_interpretation_df, 'personal_interpretation')\n",
        "personal_interpretation_dict"
      ],
      "execution_count": 14,
      "outputs": [
        {
          "output_type": "execute_result",
          "data": {
            "text/plain": [
              "{'A': [0.66, 0.44, 0.58, 0.63, 0.31, 0.61, 0.57, 0.4, 0.45],\n",
              " 'B': [0.58, 0.49, 0.58, 0.57, 0.51, 0.63, 0.57, 0.48, 0.56],\n",
              " 'documentID': 'personal_interpretation',\n",
              " 'labels': ['Family, friends and community come first',\n",
              "  'Have become more conscious of fragility of the planet of air and water pollution',\n",
              "  'Made me aware how fragile our health is',\n",
              "  'More home cooking more kitchen gardening and less eating out',\n",
              "  'Moving away from addiction to materialism and sensing other paths to a good life',\n",
              "  'Need to eat more healthy foods to have a greater resistance to germs and flus',\n",
              "  'Shocked by the inadequacy of our health systems and its great cost',\n",
              "  'The sudden loss of jobs will remain a trauma even after jobs come back',\n",
              "  'Will spend and save money more carefully']}"
            ]
          },
          "metadata": {
            "tags": []
          },
          "execution_count": 14
        }
      ]
    },
    {
      "cell_type": "code",
      "metadata": {
        "id": "pOkHznn-_hV0",
        "colab_type": "code",
        "colab": {}
      },
      "source": [
        "# # Additional Informaiton\n",
        "## to delete one table\n",
        "# query = {'documentID': 'persoanl_interpretation'}\n",
        "# db.plots.delete_one(query) \n",
        "## to delete all\n",
        "# db.plots.delete_many({})"
      ],
      "execution_count": 15,
      "outputs": []
    },
    {
      "cell_type": "code",
      "metadata": {
        "id": "hZZfbw7ewe0d",
        "colab_type": "code",
        "colab": {}
      },
      "source": [
        "# load to mongodb\n",
        "# db.plots.insert_one(personal_interpretation_dict)"
      ],
      "execution_count": 16,
      "outputs": []
    },
    {
      "cell_type": "code",
      "metadata": {
        "id": "NBZJz1Hepy_E",
        "colab_type": "code",
        "colab": {
          "base_uri": "https://localhost:8080/",
          "height": 119
        },
        "outputId": "f87476c0-b8a5-4bbe-f365-f256587ae83d"
      },
      "source": [
        "consumerism_df = pd.concat([data_0['consumerism'].value_counts(normalize=True) * 100, data_1['consumerism'].value_counts(normalize=True) * 100], axis=1)\n",
        "consumerism_df.columns = ['cluster_0', 'cluster_1']\n",
        "# consumerism_df\n",
        "\n",
        "consumerism_dict = get_dict(consumerism_df, 'consumerism')\n",
        "consumerism_dict"
      ],
      "execution_count": 17,
      "outputs": [
        {
          "output_type": "execute_result",
          "data": {
            "text/plain": [
              "{'A': [47.06, 36.13, 16.81],\n",
              " 'B': [51.41, 35.21, 13.38],\n",
              " 'documentID': 'consumerism',\n",
              " 'labels': ['No, never heard them before',\n",
              "  'Yes but only aware of the terms',\n",
              "  'Yes and I actively practice some principles of Anti Consumerism/Post Consumerism']}"
            ]
          },
          "metadata": {
            "tags": []
          },
          "execution_count": 17
        }
      ]
    },
    {
      "cell_type": "code",
      "metadata": {
        "id": "XYE_mGTZ0H5B",
        "colab_type": "code",
        "colab": {}
      },
      "source": [
        "# load to mongodb\n",
        "# db.plots.insert_one(consumerism_dict)"
      ],
      "execution_count": 18,
      "outputs": []
    },
    {
      "cell_type": "code",
      "metadata": {
        "id": "gfu4n_xqrzzy",
        "colab_type": "code",
        "colab": {
          "base_uri": "https://localhost:8080/",
          "height": 85
        },
        "outputId": "504a6354-8a3b-4cde-99ea-ce355c7f5c4b"
      },
      "source": [
        "gender_df = pd.concat([data_0['gender'].value_counts(normalize=True) * 100, data_1['gender'].value_counts(normalize=True) * 100], axis=1)\n",
        "gender_df.columns = ['cluster_0', 'cluster_1']\n",
        "gender_df = gender_df.fillna(0)\n",
        "# gender_df\n",
        "\n",
        "gender_dict = get_dict(gender_df, 'gender')\n",
        "gender_dict"
      ],
      "execution_count": 19,
      "outputs": [
        {
          "output_type": "execute_result",
          "data": {
            "text/plain": [
              "{'A': [63.03, 36.97, 0.0],\n",
              " 'B': [60.56, 38.73, 0.7],\n",
              " 'documentID': 'gender',\n",
              " 'labels': ['Male', 'Female', 'Prefer not to say']}"
            ]
          },
          "metadata": {
            "tags": []
          },
          "execution_count": 19
        }
      ]
    },
    {
      "cell_type": "code",
      "metadata": {
        "id": "DgOKhXsU0rzR",
        "colab_type": "code",
        "colab": {}
      },
      "source": [
        "# load to mongodb\n",
        "# db.plots.insert_one(gender_dict)"
      ],
      "execution_count": 20,
      "outputs": []
    },
    {
      "cell_type": "code",
      "metadata": {
        "id": "GjoI5_Surzro",
        "colab_type": "code",
        "colab": {
          "base_uri": "https://localhost:8080/",
          "height": 272
        },
        "outputId": "63320789-a4b3-4444-bb01-b7073fa08dcf"
      },
      "source": [
        "country_df = pd.concat([data_0['country_in'].value_counts(normalize=True) * 100, data_1['country_in'].value_counts(normalize=True) * 100], axis=1)\n",
        "country_df.columns = ['cluster_0', 'cluster_1']\n",
        "country_df = country_df.fillna(0)\n",
        "# country_df\n",
        "\n",
        "country_dict = get_dict(country_df, 'country')\n",
        "country_dict"
      ],
      "execution_count": 21,
      "outputs": [
        {
          "output_type": "execute_result",
          "data": {
            "text/plain": [
              "{'A': [47.06, 39.5, 4.2, 2.52, 1.68, 1.68, 0.84, 0.84, 0.84, 0.84, 0.0, 0.0],\n",
              " 'B': [5.67, 90.78, 0.0, 0.0, 0.0, 1.42, 0.0, 0.0, 0.0, 0.0, 1.42, 0.71],\n",
              " 'documentID': 'country',\n",
              " 'labels': ['United States',\n",
              "  'India',\n",
              "  'Canada',\n",
              "  'United Kingdom',\n",
              "  'Sweden',\n",
              "  'United Arab Emirates',\n",
              "  'Hungary',\n",
              "  'Ireland',\n",
              "  'Germany',\n",
              "  'Other (Please specify)',\n",
              "  'Australia',\n",
              "  'Qatar']}"
            ]
          },
          "metadata": {
            "tags": []
          },
          "execution_count": 21
        }
      ]
    },
    {
      "cell_type": "code",
      "metadata": {
        "id": "YoGjwy7c1ewS",
        "colab_type": "code",
        "colab": {}
      },
      "source": [
        "# load to mongodb\n",
        "# db.plots.insert_one(country_dict)"
      ],
      "execution_count": 22,
      "outputs": []
    },
    {
      "cell_type": "code",
      "metadata": {
        "id": "rzRDQYbotWj6",
        "colab_type": "code",
        "colab": {
          "base_uri": "https://localhost:8080/",
          "height": 187
        },
        "outputId": "2cbde65c-36e1-4347-9ad5-a604d16eb7c9"
      },
      "source": [
        "education_df = pd.concat([data_0['education'].value_counts(normalize=True) * 100, data_1['education'].value_counts(normalize=True) * 100], axis=1)\n",
        "education_df.columns = ['cluster_0', 'cluster_1']\n",
        "education_df = education_df.fillna(0)\n",
        "# education_df\n",
        "\n",
        "# delete\n",
        "education_df = education_df[education_df.index != 'I  f**ked up']\n",
        "education_df = education_df[education_df.index != 'Engineering']\n",
        "\n",
        "education_dict = get_dict(education_df, 'education')\n",
        "education_dict"
      ],
      "execution_count": 23,
      "outputs": [
        {
          "output_type": "execute_result",
          "data": {
            "text/plain": [
              "{'A': [83.05, 5.93, 5.08, 2.54, 0.85, 0.85, 0.0],\n",
              " 'B': [1.41, 84.51, 0.7, 12.68, 0.0, 0.0, 0.7],\n",
              " 'documentID': 'education',\n",
              " 'labels': ['Masters degree',\n",
              "  'Graduated from college',\n",
              "  'Doctorate',\n",
              "  'High school',\n",
              "  'Post Grad',\n",
              "  'Double graduation',\n",
              "  'Under graduate']}"
            ]
          },
          "metadata": {
            "tags": []
          },
          "execution_count": 23
        }
      ]
    },
    {
      "cell_type": "code",
      "metadata": {
        "id": "KLnJ4vtJ1qpV",
        "colab_type": "code",
        "colab": {}
      },
      "source": [
        "# load to mongodb\n",
        "# db.plots.insert_one(education_dict)"
      ],
      "execution_count": 24,
      "outputs": []
    },
    {
      "cell_type": "code",
      "metadata": {
        "id": "QrOcbbPHtWgv",
        "colab_type": "code",
        "colab": {
          "base_uri": "https://localhost:8080/",
          "height": 204
        },
        "outputId": "349c881c-dd2f-46cc-c35a-26f351beb543"
      },
      "source": [
        "profession_df = pd.concat([data_0['profession'].value_counts(normalize=True) * 100, data_1['profession'].value_counts(normalize=True) * 100], axis=1)\n",
        "profession_df.columns = ['cluster_0', 'cluster_1']\n",
        "profession_df = profession_df.fillna(0)\n",
        "# profession_df\n",
        "\n",
        "profession_dict = get_dict(profession_df, 'profession')\n",
        "profession_dict"
      ],
      "execution_count": 25,
      "outputs": [
        {
          "output_type": "execute_result",
          "data": {
            "text/plain": [
              "{'A': [55.93, 21.19, 8.47, 7.63, 2.54, 2.54, 1.69, 0.0],\n",
              " 'B': [45.77, 30.99, 6.34, 3.52, 2.11, 6.34, 2.82, 2.11],\n",
              " 'documentID': 'profession',\n",
              " 'labels': ['Employed in Private firm',\n",
              "  'Student',\n",
              "  'Seeking employment',\n",
              "  'Employed in Public or Government firm',\n",
              "  'Own Business - Small & Medium',\n",
              "  'Retired',\n",
              "  'Self employed Professional',\n",
              "  'Home maker']}"
            ]
          },
          "metadata": {
            "tags": []
          },
          "execution_count": 25
        }
      ]
    },
    {
      "cell_type": "code",
      "metadata": {
        "id": "-2BEiDyR17WZ",
        "colab_type": "code",
        "colab": {}
      },
      "source": [
        "# load to mongodb\n",
        "# db.plots.insert_one(profession_dict)"
      ],
      "execution_count": 26,
      "outputs": []
    },
    {
      "cell_type": "code",
      "metadata": {
        "id": "2CDqtFCHvPGl",
        "colab_type": "code",
        "colab": {
          "base_uri": "https://localhost:8080/",
          "height": 272
        },
        "outputId": "33f59eb7-ecbf-4add-8aae-327181715adb"
      },
      "source": [
        "residence_df = pd.concat([data_0['residence'].value_counts(normalize=True) * 100, data_1['residence'].value_counts(normalize=True) * 100], axis=1)\n",
        "residence_df.columns = ['cluster_0', 'cluster_1']\n",
        "residence_df = residence_df.fillna(0)\n",
        "# residence_df\n",
        "\n",
        "# delete\n",
        "residence_df = residence_df[residence_df.index != 'I live in jungle']\n",
        "\n",
        "residence_dict = get_dict(residence_df, 'residence')\n",
        "residence_dict"
      ],
      "execution_count": 27,
      "outputs": [
        {
          "output_type": "execute_result",
          "data": {
            "text/plain": [
              "{'A': [37.93, 30.17, 9.48, 7.76, 5.17, 5.17, 1.72, 0.86, 0.86, 0.0, 0.0, 0.0],\n",
              " 'B': [59.86, 11.97, 10.56, 5.63, 3.52, 6.34, 0.0, 0.0, 0.0, 0.7, 0.7, 0.7],\n",
              " 'documentID': 'residence',\n",
              " 'labels': ['One to two bedroom apartment',\n",
              "  '3+ bedroom apartment',\n",
              "  'Single family (detached)',\n",
              "  'town-home',\n",
              "  'Studio apartment',\n",
              "  'Bungalow',\n",
              "  'Condominium',\n",
              "  'Row House',\n",
              "  'sharing',\n",
              "  'PG',\n",
              "  'Hostel',\n",
              "  'Castle/Chateau/Palace/Cottage/Ranch/etc']}"
            ]
          },
          "metadata": {
            "tags": []
          },
          "execution_count": 27
        }
      ]
    },
    {
      "cell_type": "code",
      "metadata": {
        "id": "nUi0kz8F2H2L",
        "colab_type": "code",
        "colab": {}
      },
      "source": [
        "# load to mongodb\n",
        "# db.plots.insert_one(residence_dict)"
      ],
      "execution_count": 28,
      "outputs": []
    },
    {
      "cell_type": "code",
      "metadata": {
        "id": "f69Z6I96vatW",
        "colab_type": "code",
        "colab": {
          "base_uri": "https://localhost:8080/",
          "height": 170
        },
        "outputId": "2794d126-49e7-474a-e163-7b2418566b2e"
      },
      "source": [
        "household_income_pa_df = pd.concat([data_0['household_income_pa'].value_counts(normalize=True) * 100, data_1['household_income_pa'].value_counts(normalize=True) * 100], axis=1)\n",
        "household_income_pa_df.columns = ['cluster_0', 'cluster_1']\n",
        "household_income_pa_df = household_income_pa_df.fillna(0)\n",
        "# household_income_pa_df\n",
        "\n",
        "# delete\n",
        "household_income_pa_df = household_income_pa_df[household_income_pa_df.index != 'IDk']\n",
        "household_income_pa_df = household_income_pa_df[household_income_pa_df.index != 'Currently a student']\n",
        "household_income_pa_df = household_income_pa_df[household_income_pa_df.index != '0']\n",
        "household_income_pa_df = household_income_pa_df[household_income_pa_df.index != 'Prefer not to say']\n",
        "household_income_pa_df = household_income_pa_df[household_income_pa_df.index != 'Do not wish to disclose']\n",
        "\n",
        "\n",
        "household_income_pa_dict = get_dict(household_income_pa_df, 'household_income_pa')\n",
        "household_income_pa_dict"
      ],
      "execution_count": 29,
      "outputs": [
        {
          "output_type": "execute_result",
          "data": {
            "text/plain": [
              "{'A': [24.14, 22.41, 15.52, 12.93, 12.93, 8.62],\n",
              " 'B': [70.77, 2.31, 3.08, 3.08, 0.77, 19.23],\n",
              " 'documentID': 'household_income_pa',\n",
              " 'labels': ['Less than $24,999',\n",
              "  '$75,000 to $99,999',\n",
              "  '$50,000 to $74,999',\n",
              "  '$100,000 to $149,999',\n",
              "  '$150,000 or More',\n",
              "  '$25,000 to $49,999']}"
            ]
          },
          "metadata": {
            "tags": []
          },
          "execution_count": 29
        }
      ]
    },
    {
      "cell_type": "code",
      "metadata": {
        "id": "eu2BxYGE2ZHU",
        "colab_type": "code",
        "colab": {}
      },
      "source": [
        "# load to mongodb\n",
        "# db.plots.insert_one(household_income_pa_dict)"
      ],
      "execution_count": 30,
      "outputs": []
    },
    {
      "cell_type": "markdown",
      "metadata": {
        "id": "VaHolsXWEqtK",
        "colab_type": "text"
      },
      "source": [
        "# Exploring their choices further"
      ]
    },
    {
      "cell_type": "code",
      "metadata": {
        "id": "idsBXFxl6xDc",
        "colab_type": "code",
        "colab": {
          "base_uri": "https://localhost:8080/",
          "height": 85
        },
        "outputId": "b47e1324-2c84-41c5-a385-0ee9dbe478a1"
      },
      "source": [
        "# Growth in Anti-Consumerism behavior ?\n",
        "nn0 = data_0[data_0.columns[34:45].tolist()] # new normal\n",
        "nn1 = data_1[data_1.columns[34:45].tolist()]\n",
        "\n",
        "\n",
        "growth_anticon_df = pd.concat([nn0.iloc[:, 2].value_counts(normalize=True) * 100, nn1.iloc[:, 2].value_counts(normalize=True) * 100], axis=1)\n",
        "growth_anticon_df.columns = ['cluster_0', 'cluster_1']\n",
        "growth_anticon_df.index = ['No growth in anti-consumerism', 'Growth in anti-consumerism']\n",
        "# growth_anticon_df\n",
        "\n",
        "growth_anticon_dict = get_dict(growth_anticon_df, 'growth_anticon')\n",
        "growth_anticon_dict"
      ],
      "execution_count": 31,
      "outputs": [
        {
          "output_type": "execute_result",
          "data": {
            "text/plain": [
              "{'A': [77.31, 22.69],\n",
              " 'B': [80.28, 19.72],\n",
              " 'documentID': 'growth_anticon',\n",
              " 'labels': ['No growth in anti-consumerism', 'Growth in anti-consumerism']}"
            ]
          },
          "metadata": {
            "tags": []
          },
          "execution_count": 31
        }
      ]
    },
    {
      "cell_type": "code",
      "metadata": {
        "id": "1Sd2lGhY6w_p",
        "colab_type": "code",
        "colab": {}
      },
      "source": [
        "# load to mongodb\n",
        "# db.plots.insert_one(growth_anticon_dict)"
      ],
      "execution_count": 32,
      "outputs": []
    },
    {
      "cell_type": "code",
      "metadata": {
        "id": "d0BIKIt181XP",
        "colab_type": "code",
        "colab": {
          "base_uri": "https://localhost:8080/",
          "height": 85
        },
        "outputId": "5213fb75-dda8-4f71-8f1a-af5c78d4bf01"
      },
      "source": [
        "# Remote ‘everything’ – education, healthcare, financial services, entertainment & …. so on ?\n",
        "remote_everything_df = pd.concat([nn0.iloc[:, 10].value_counts(normalize=True) * 100, nn1.iloc[:, 10].value_counts(normalize=True) * 100], axis=1)\n",
        "remote_everything_df.columns = ['cluster_0', 'cluster_1']\n",
        "remote_everything_df.index = ['Disagree', 'Agree']\n",
        "# remote_everything_df\n",
        "\n",
        "remote_everything_dict = get_dict(remote_everything_df, 'remote_everything')\n",
        "remote_everything_dict"
      ],
      "execution_count": 33,
      "outputs": [
        {
          "output_type": "execute_result",
          "data": {
            "text/plain": [
              "{'A': [57.14, 42.86],\n",
              " 'B': [67.61, 32.39],\n",
              " 'documentID': 'remote_everything',\n",
              " 'labels': ['Disagree', 'Agree']}"
            ]
          },
          "metadata": {
            "tags": []
          },
          "execution_count": 33
        }
      ]
    },
    {
      "cell_type": "code",
      "metadata": {
        "id": "i--7pG5zGf62",
        "colab_type": "code",
        "colab": {}
      },
      "source": [
        "# load to mongodb\n",
        "# db.plots.insert_one(remote_everything_dict)"
      ],
      "execution_count": 34,
      "outputs": []
    },
    {
      "cell_type": "markdown",
      "metadata": {
        "id": "twJBGJiyGVvb",
        "colab_type": "text"
      },
      "source": [
        "## Industries - opinion on expenditure"
      ]
    },
    {
      "cell_type": "code",
      "metadata": {
        "id": "WbZrJNKDHBAO",
        "colab_type": "code",
        "colab": {}
      },
      "source": [
        "def get_exp_score(data):\n",
        "    score = 0\n",
        "    num = len(data)\n",
        "    counts = data.value_counts()\n",
        "    score = score + ( 2 * counts['Increase Significantly'] ) + ( 1 * counts['Increase Slightly'] ) \n",
        "    score = score + ( -2 * counts['Reduced Significantly'] ) + ( -1 * counts['Reduced Slightly'] )\n",
        "    # score = score + ( 0 * counts['Remain Constant'] ) + ( 0 * counts['Cannot Say'] )\n",
        "    return round(float(score/num), 2)\n",
        "\n",
        "def get_exp_dict(col_name, docID):\n",
        "    dictt = {}\n",
        "    dictt['documentID'] = docID\n",
        "    dictt['cluster_0'] = get_exp_score(data_0[col_name])\n",
        "    dictt['cluster_1'] = get_exp_score(data_1[col_name])\n",
        "    dictt['label'] = 'score'\n",
        "    return dictt"
      ],
      "execution_count": 35,
      "outputs": []
    },
    {
      "cell_type": "code",
      "metadata": {
        "id": "LSpKVcte3SLX",
        "colab_type": "code",
        "colab": {}
      },
      "source": [
        "# data_0, data_1\n",
        "# format: get_exp_dict(col_name, docID)\n",
        "\n",
        "# 1. Banks - Investment\n",
        "banks = get_exp_dict('expen_impt_investments', 'exp_banks')\n",
        "\n",
        "# 2. Capital Goods - Business expenditure\n",
        "capital_goods = get_exp_dict('expen_impt_business_expen', 'exp_capital_goods')\n",
        "\n",
        "# 3. Consumer Apparel - Luxury goods expenditure\n",
        "consumer_apparel = get_exp_dict('expen_impt_luxury', 'exp_consumer_apparel')\n",
        "\n",
        "# 4. Food and Staples Retailing - food and groceries\n",
        "food = get_exp_dict('expen_impt_food_groceries', 'exp_food')\n",
        "\n",
        "# 5. Health Care Pharmaceuticals - healthcare, Wellness expenditure\n",
        "health = {}\n",
        "health['documentID'] = 'health'\n",
        "health['cluster_0'] = round(float((get_exp_score(data_0['expen_impt_healthcare']) + get_exp_score(data_0['expen_impt_wellness']))/2), 2)\n",
        "health['cluster_1'] = round(float((get_exp_score(data_1['expen_impt_healthcare']) + get_exp_score(data_1['expen_impt_wellness']))/2), 2)\n",
        "health['label'] = 'score'\n",
        "# health\n",
        "\n",
        "# 6. Insurance - insurance expenditure\n",
        "insurance = get_exp_dict('expen_impt_insurance', 'exp_insurance')\n",
        "\n",
        "# 7. Media Entertainment - entertainment expenditure\n",
        "entertainment = get_exp_dict('expen_impt_entertainment', 'exp_entertainment')\n",
        "\n",
        "# 8. Education \n",
        "education = get_exp_dict('expen_impt_education', 'exp_education')\n",
        "\n",
        "# 9. Real Estate - Residence expenditure\n",
        "realestate = get_exp_dict('expen_impt_residence', 'exp_realestate')\n",
        "\n",
        "# 10. Technology Goods Products - Appliances and Electronics expenditure\n",
        "technology = get_exp_dict('expen_impt_appliances', 'exp_technology')\n",
        "\n",
        "# # 11. E-commerce Online service platforms - e-commerce, online, work from home - scale 0 to 1\n",
        "# for this we collected data in a diff format, so it is either agree or disagree overall - average score\n",
        "ecomm0 = ( float(data_0['More e-commerce and online shopping ?'].sum()/len(data_0['More e-commerce and online shopping ?']))\n",
        "         + float(data_0['More e-learning ?'].sum()/len(data_0['More e-learning ?']))\n",
        "         + float(data_0['More adoption of work from home culture?'].sum()/len(data_0['More adoption of work from home culture?']))\n",
        "         + float(data_0['More adoption of Digital Technology into daily lifestyle ?'].sum()/len(data_0['More adoption of Digital Technology into daily lifestyle ?']))\n",
        "          ) / 4\n",
        "ecomm1 = ( float(data_1['More e-commerce and online shopping ?'].sum()/len(data_1['More e-commerce and online shopping ?']))\n",
        "         + float(data_1['More e-learning ?'].sum()/len(data_1['More e-learning ?']))\n",
        "         + float(data_1['More adoption of work from home culture?'].sum()/len(data_1['More adoption of work from home culture?']))\n",
        "         + float(data_1['More adoption of Digital Technology into daily lifestyle ?'].sum()/len(data_1['More adoption of Digital Technology into daily lifestyle ?']))\n",
        "          ) / 4\n",
        "ecommerce = {}\n",
        "ecommerce['documentID'] = 'ecommerce'\n",
        "ecommerce['cluster_0'] = ecomm0\n",
        "ecommerce['cluster_1'] = ecomm1\n",
        "ecommerce['label'] = 'score'\n",
        "# ecommerce"
      ],
      "execution_count": 36,
      "outputs": []
    },
    {
      "cell_type": "code",
      "metadata": {
        "id": "8vWsGg1cLqbG",
        "colab_type": "code",
        "colab": {
          "base_uri": "https://localhost:8080/",
          "height": 85
        },
        "outputId": "32de2fbc-d98c-4da1-f7f9-36c1a3dc3147"
      },
      "source": [
        "# scale e-commerce from 0-1 to -2to2\n",
        "def get_scaled_value(x):\n",
        "# -2 a +2\n",
        "#  0 x 1\n",
        "    return round((4 * x) - 2, 2)\n",
        "\n",
        "\n",
        "ecommerce['cluster_0'] = get_scaled_value(ecommerce['cluster_0'])\n",
        "ecommerce['cluster_1'] = get_scaled_value(ecommerce['cluster_1'])\n",
        "ecommerce"
      ],
      "execution_count": 37,
      "outputs": [
        {
          "output_type": "execute_result",
          "data": {
            "text/plain": [
              "{'cluster_0': 0.54,\n",
              " 'cluster_1': 0.27,\n",
              " 'documentID': 'ecommerce',\n",
              " 'label': 'score'}"
            ]
          },
          "metadata": {
            "tags": []
          },
          "execution_count": 37
        }
      ]
    },
    {
      "cell_type": "markdown",
      "metadata": {
        "id": "dUALhGae3XfO",
        "colab_type": "text"
      },
      "source": [
        "## Cluster opinion across industries"
      ]
    },
    {
      "cell_type": "code",
      "metadata": {
        "id": "yDPZ8_lBLqeI",
        "colab_type": "code",
        "colab": {
          "base_uri": "https://localhost:8080/",
          "height": 425
        },
        "outputId": "fee0c5c2-64cf-4971-be92-4ca118efb86b"
      },
      "source": [
        "indust_labels = ['Banks', 'Capital Goods', 'Consumer Apparel', 'Food and Staples Retailing', 'Health Care and Pharmaceuticals', \n",
        "              'Insurance', 'Media and Entertainment', 'Education', 'Real Estate', 'Technology Products', 'Online Service Platforms']\n",
        "industries_list = [banks, capital_goods, consumer_apparel, food, health, insurance, \n",
        "                   entertainment, education, realestate, technology, ecommerce]\n",
        "\n",
        "indust_scores0 = []\n",
        "indust_scores1 = []\n",
        "for entry in industries_list:\n",
        "    indust_scores0.append(entry['cluster_0'])\n",
        "    indust_scores1.append(entry['cluster_1'])\n",
        "\n",
        "industry_scores = {}\n",
        "industry_scores['documentID'] = 'industry_scores'\n",
        "industry_scores['labels'] = indust_labels\n",
        "industry_scores['A'] = indust_scores0\n",
        "industry_scores['B'] = indust_scores1\n",
        "industry_scores"
      ],
      "execution_count": 38,
      "outputs": [
        {
          "output_type": "execute_result",
          "data": {
            "text/plain": [
              "{'A': [0.32, -0.66, -0.92, 0.1, -0.27, 0.12, -0.99, 0.01, -0.03, -0.29, 0.54],\n",
              " 'B': [0.04,\n",
              "  -0.66,\n",
              "  -0.97,\n",
              "  -0.05,\n",
              "  -0.28,\n",
              "  0.22,\n",
              "  -1.02,\n",
              "  -0.01,\n",
              "  -0.11,\n",
              "  -0.32,\n",
              "  0.27],\n",
              " 'documentID': 'industry_scores',\n",
              " 'labels': ['Banks',\n",
              "  'Capital Goods',\n",
              "  'Consumer Apparel',\n",
              "  'Food and Staples Retailing',\n",
              "  'Health Care and Pharmaceuticals',\n",
              "  'Insurance',\n",
              "  'Media and Entertainment',\n",
              "  'Education',\n",
              "  'Real Estate',\n",
              "  'Technology Products',\n",
              "  'Online Service Platforms']}"
            ]
          },
          "metadata": {
            "tags": []
          },
          "execution_count": 38
        }
      ]
    },
    {
      "cell_type": "code",
      "metadata": {
        "id": "hcMFlTWCLqRb",
        "colab_type": "code",
        "colab": {}
      },
      "source": [
        "# db.plots.insert_one(industry_scores)"
      ],
      "execution_count": 39,
      "outputs": []
    },
    {
      "cell_type": "markdown",
      "metadata": {
        "id": "EcQ54HxRIrMA",
        "colab_type": "text"
      },
      "source": [
        "## Post-consumerist post COVID 19\n",
        "\n",
        "What kind of Post-consumerist do you think you may become Post COVID-19?"
      ]
    },
    {
      "cell_type": "code",
      "metadata": {
        "id": "GOG2PeEFLvwW",
        "colab_type": "code",
        "colab": {
          "base_uri": "https://localhost:8080/",
          "height": 170
        },
        "outputId": "2fa4e60c-750a-4bc7-85d3-c7b940eafc9c"
      },
      "source": [
        "def get_postcov_score(data):\n",
        "    score = 0\n",
        "    num = len(data)\n",
        "    counts = data.value_counts()\n",
        "    score = score + ( 2 * counts['Strongly Agree'] ) + ( 1 * counts['Lightly Agree'] ) \n",
        "    score = score + ( -2 * counts['Strongly Disagree'] ) + ( -1 * counts['Lightly Disagree'] )\n",
        "    # score = score + ( 0 * counts['Neither Agree nor Disagre'] ) + ( 0 * counts[nan] )\n",
        "    return round(float(score/num), 3)\n",
        "\n",
        "\n",
        "postcov_labels = ['Life Simplifier', 'De-growth Activist', 'Climate Activist', 'Sane Food Chooser', 'Conservationist', 'Remote everything']\n",
        "postcov_list = ['postcov_life_simplifier', 'postcov_degrowth_activist', 'postcov_climate_activist', \n",
        "                'postcov_sane_food', 'postcov_conservationist', 'postcov_remote_everything']\n",
        "\n",
        "postcov_scores0 = []\n",
        "postcov_scores1 = []\n",
        "for entry in postcov_list:\n",
        "    postcov_scores0.append(get_postcov_score(data_0[entry]))\n",
        "    postcov_scores1.append(get_postcov_score(data_1[entry]))\n",
        "\n",
        "\n",
        "postcov_scores = {}\n",
        "postcov_scores['documentID'] = 'postcov_scores'\n",
        "postcov_scores['labels'] = postcov_labels\n",
        "postcov_scores['A'] = postcov_scores0\n",
        "postcov_scores['B'] = postcov_scores1\n",
        "postcov_scores"
      ],
      "execution_count": 40,
      "outputs": [
        {
          "output_type": "execute_result",
          "data": {
            "text/plain": [
              "{'A': [0.731, 0.706, 1.252, 0.454, 0.798, 0.622],\n",
              " 'B': [0.577, 0.627, 1.268, 0.493, 0.725, 0.408],\n",
              " 'documentID': 'postcov_scores',\n",
              " 'labels': ['Life Simplifier',\n",
              "  'De-growth Activist',\n",
              "  'Climate Activist',\n",
              "  'Sane Food Chooser',\n",
              "  'Conservationist',\n",
              "  'Remote everything']}"
            ]
          },
          "metadata": {
            "tags": []
          },
          "execution_count": 40
        }
      ]
    },
    {
      "cell_type": "code",
      "metadata": {
        "id": "0eFmfouaNpZ_",
        "colab_type": "code",
        "colab": {}
      },
      "source": [
        "# db.plots.insert_one(postcov_scores)"
      ],
      "execution_count": 41,
      "outputs": []
    },
    {
      "cell_type": "code",
      "metadata": {
        "id": "EIJC6yNjOAL6",
        "colab_type": "code",
        "colab": {
          "base_uri": "https://localhost:8080/",
          "height": 119
        },
        "outputId": "0a7ba677-ccac-4755-f702-fc1c0e27190a"
      },
      "source": [
        "# 'postcov_most', 'postcov_little', 'postcov_no_change'\n",
        "postcov2_labels = ['Most of everything', 'Little of everything', 'Back to usual self']\n",
        "postcov2_list = ['postcov_most', 'postcov_little', 'postcov_no_change']\n",
        "\n",
        "postcov2_scores0 = []\n",
        "postcov2_scores1 = []\n",
        "for entry in postcov2_list:\n",
        "    postcov2_scores0.append(get_postcov_score(data_0[entry]))\n",
        "    postcov2_scores1.append(get_postcov_score(data_1[entry]))\n",
        "\n",
        "\n",
        "postcov2_scores = {}\n",
        "postcov2_scores['documentID'] = 'postcov_scores_2'\n",
        "postcov2_scores['labels'] = postcov2_labels\n",
        "postcov2_scores['A'] = postcov2_scores0\n",
        "postcov2_scores['B'] = postcov2_scores1\n",
        "postcov2_scores"
      ],
      "execution_count": 42,
      "outputs": [
        {
          "output_type": "execute_result",
          "data": {
            "text/plain": [
              "{'A': [0.529, 0.319, -0.361],\n",
              " 'B': [0.514, 0.394, -0.106],\n",
              " 'documentID': 'postcov_scores_2',\n",
              " 'labels': ['Most of everything',\n",
              "  'Little of everything',\n",
              "  'Back to usual self']}"
            ]
          },
          "metadata": {
            "tags": []
          },
          "execution_count": 42
        }
      ]
    },
    {
      "cell_type": "code",
      "metadata": {
        "id": "TxMzRLLNLqBB",
        "colab_type": "code",
        "colab": {}
      },
      "source": [
        "# db.plots.insert_one(postcov2_scores)"
      ],
      "execution_count": 43,
      "outputs": []
    },
    {
      "cell_type": "markdown",
      "metadata": {
        "id": "fgsyzQ00KLhW",
        "colab_type": "text"
      },
      "source": [
        "References:\n",
        "\n",
        "https://towardsdatascience.com/clustering-with-k-means-1e07a8bfb7ca"
      ]
    }
  ]
}